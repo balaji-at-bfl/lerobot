{
 "cells": [
  {
   "cell_type": "code",
   "execution_count": 68,
   "id": "b9a788a6",
   "metadata": {},
   "outputs": [],
   "source": [
    "import mujoco\n",
    "import mediapy as media\n",
    "import mujoco.viewer as MV"
   ]
  },
  {
   "cell_type": "code",
   "execution_count": 69,
   "id": "cef3cce9",
   "metadata": {},
   "outputs": [],
   "source": [
    "model = mujoco.MjModel.from_xml_path(\"B:\\\\dobot\\\\scene.xml\")\n",
    "data = mujoco.MjData(model)"
   ]
  },
  {
   "cell_type": "code",
   "execution_count": 70,
   "id": "1a27aa30",
   "metadata": {},
   "outputs": [],
   "source": [
    "\n",
    "viewer = MV.launch_passive(model, data)"
   ]
  },
  {
   "cell_type": "code",
   "execution_count": null,
   "id": "066b4056",
   "metadata": {},
   "outputs": [],
   "source": [
    "data.qpos[4] = 1\n"
   ]
  },
  {
   "cell_type": "code",
   "execution_count": 76,
   "id": "97f99146",
   "metadata": {},
   "outputs": [],
   "source": [
    "mujoco.mj_step(model, data)"
   ]
  },
  {
   "cell_type": "code",
   "execution_count": 77,
   "id": "9dac9d0e",
   "metadata": {},
   "outputs": [
    {
     "ename": "ModuleNotFoundError",
     "evalue": "No module named 'ipywidgets'",
     "output_type": "error",
     "traceback": [
      "\u001b[31m---------------------------------------------------------------------------\u001b[39m",
      "\u001b[31mModuleNotFoundError\u001b[39m                       Traceback (most recent call last)",
      "\u001b[36mCell\u001b[39m\u001b[36m \u001b[39m\u001b[32mIn[77]\u001b[39m\u001b[32m, line 1\u001b[39m\n\u001b[32m----> \u001b[39m\u001b[32m1\u001b[39m \u001b[38;5;28;01mimport\u001b[39;00m\u001b[38;5;250m \u001b[39m\u001b[34;01mipywidgets\u001b[39;00m\u001b[38;5;250m \u001b[39m\u001b[38;5;28;01mas\u001b[39;00m\u001b[38;5;250m \u001b[39m\u001b[34;01mwidgets\u001b[39;00m\n\u001b[32m      3\u001b[39m \u001b[38;5;28;01mdef\u001b[39;00m\u001b[38;5;250m \u001b[39m\u001b[34mupdate_joint\u001b[39m(value):\n\u001b[32m      4\u001b[39m     data.ctrl[\u001b[32m0\u001b[39m] = value  \u001b[38;5;66;03m# Control first joint\u001b[39;00m\n",
      "\u001b[31mModuleNotFoundError\u001b[39m: No module named 'ipywidgets'"
     ]
    }
   ],
   "source": [
    "import ipywidgets as widgets\n",
    "\n",
    "def update_joint(value):\n",
    "    data.ctrl[0] = value  # Control first joint\n",
    "    mujoco.mj_step(model, data)\n",
    "\n",
    "slider = widgets.FloatSlider(min=-1.5, max=1.5, step=0.1)\n",
    "widgets.interactive(update_joint, value=slider)\n"
   ]
  },
  {
   "cell_type": "code",
   "execution_count": 14,
   "id": "aafef269",
   "metadata": {},
   "outputs": [],
   "source": [
    "import mujoco\n",
    "import mujoco.viewer\n",
    "import numpy as np\n",
    "import time\n",
    "\n",
    "# Load the model\n",
    "model = mujoco.MjModel.from_xml_path(\"B:\\\\dobot\\\\scene.xml\")\n",
    "data = mujoco.MjData(model)\n",
    "\n",
    "# Launch the viewer\n",
    "viewer = mujoco.viewer.launch_passive(model, data)\n",
    "\n",
    "        # joint_name = \"joint1\"  # Replace with your joint name\n",
    "        # joint_id = model.joint(joint_name).id\n",
    "\n",
    "        # # Apply a control signal (assumes actuator is mapped to joint)\n",
    "        # #data.ctrl[0] = 10  # Adjust index based on actuator mapping\n",
    "        # data.ctrl[joint_id] = 0.5  # Example control value\n",
    "\n",
    "        # # Step simulation\n",
    "        # mujoco.mj_step(model, data)\n",
    "        # viewer.sync()\n"
   ]
  },
  {
   "cell_type": "code",
   "execution_count": null,
   "id": "01ea2cab",
   "metadata": {},
   "outputs": [],
   "source": [
    "\n",
    "for i in range(100):\n",
    "    data.ctrl[1] = 1\n",
    "    mujoco.mj_step(model, data)\n",
    "    viewer.sync()  # Adjust sleep time as needed \n"
   ]
  },
  {
   "cell_type": "code",
   "execution_count": 26,
   "id": "f7395968",
   "metadata": {},
   "outputs": [],
   "source": [
    "import mujoco\n",
    "import mujoco.viewer\n",
    "import numpy as np\n",
    "import time\n",
    "\n",
    "# Load model and data\n",
    "model = mujoco.MjModel.from_xml_path(\"B:\\\\dobot\\\\scene.xml\")\n",
    "data = mujoco.MjData(model)\n",
    "\n",
    "# Desired joint positions (rad or meters, depending on joint type)\n",
    "target_qpos = np.array([0.5, 0, 0, 0, 0, 0])  # Your target pose\n",
    "\n",
    "with mujoco.viewer.launch_passive(model, data) as viewer:\n",
    "    start = time.time()\n",
    "    while time.time() - start < 10:\n",
    "        for i in range(6):\n",
    "            data.ctrl[i] = target_qpos[i]  # Continuously hold target\n",
    "        mujoco.mj_step(model, data)\n",
    "        viewer.sync()\n",
    "  # Adjust sleep time as needed\n",
    " "
   ]
  },
  {
   "cell_type": "code",
   "execution_count": 1,
   "id": "70d6112b",
   "metadata": {},
   "outputs": [],
   "source": [
    "import mujoco\n",
    "model = mujoco.MjModel.from_xml_path(\"B:\\\\dobot\\\\scene.xml\")\n",
    "data = mujoco.MjData(model)\n"
   ]
  },
  {
   "cell_type": "code",
   "execution_count": null,
   "id": "592bb57b",
   "metadata": {},
   "outputs": [],
   "source": [
    "data.xpos  # Set x position"
   ]
  },
  {
   "cell_type": "code",
   "execution_count": 10,
   "id": "3e992972",
   "metadata": {},
   "outputs": [],
   "source": [
    "import numpy as np\n",
    "# Assume 'model' and 'data' are loaded MuJoCo model and data objects\n",
    "geom_id = mujoco.mj_name2id(model, mujoco.mjtObj.mjOBJ_GEOM, \"box_visual\")  # Replace 'geom_name' with your geometry name\n"
   ]
  },
  {
   "cell_type": "code",
   "execution_count": 11,
   "id": "b1ea25be",
   "metadata": {},
   "outputs": [
    {
     "data": {
      "text/plain": [
       "16"
      ]
     },
     "execution_count": 11,
     "metadata": {},
     "output_type": "execute_result"
    }
   ],
   "source": [
    "geom_id"
   ]
  },
  {
   "cell_type": "code",
   "execution_count": 17,
   "id": "63e9cfdd",
   "metadata": {},
   "outputs": [
    {
     "name": "stdout",
     "output_type": "stream",
     "text": [
      "[0.5 0.  0.1]\n"
     ]
    }
   ],
   "source": [
    "mujoco.mj_forward(model,data)\n",
    "print(data.geom_xpos[16]) # Set position of the geometry"
   ]
  },
  {
   "cell_type": "code",
   "execution_count": 18,
   "id": "aa740c9d",
   "metadata": {},
   "outputs": [
    {
     "name": "stdout",
     "output_type": "stream",
     "text": [
      "[0.5 0.  0.1]\n"
     ]
    }
   ],
   "source": [
    "print(data.geom_xpos[geom_id])  # Get position of the geometry"
   ]
  },
  {
   "cell_type": "code",
   "execution_count": 22,
   "id": "0cb5bdb6",
   "metadata": {},
   "outputs": [
    {
     "ename": "ModuleNotFoundError",
     "evalue": "No module named 'dm_env'",
     "output_type": "error",
     "traceback": [
      "\u001b[31m---------------------------------------------------------------------------\u001b[39m",
      "\u001b[31mModuleNotFoundError\u001b[39m                       Traceback (most recent call last)",
      "\u001b[36mCell\u001b[39m\u001b[36m \u001b[39m\u001b[32mIn[22]\u001b[39m\u001b[32m, line 2\u001b[39m\n\u001b[32m      1\u001b[39m \u001b[38;5;28;01mimport\u001b[39;00m\u001b[38;5;250m \u001b[39m\u001b[34;01mnumpy\u001b[39;00m\u001b[38;5;250m \u001b[39m\u001b[38;5;28;01mas\u001b[39;00m\u001b[38;5;250m \u001b[39m\u001b[34;01mnp\u001b[39;00m\n\u001b[32m----> \u001b[39m\u001b[32m2\u001b[39m \u001b[38;5;28;01mfrom\u001b[39;00m\u001b[38;5;250m \u001b[39m\u001b[34;01mdm_control\u001b[39;00m\u001b[38;5;250m \u001b[39m\u001b[38;5;28;01mimport\u001b[39;00m mujoco\n\u001b[32m      3\u001b[39m \u001b[38;5;28;01mfrom\u001b[39;00m\u001b[38;5;250m \u001b[39m\u001b[34;01mdm_control\u001b[39;00m\u001b[34;01m.\u001b[39;00m\u001b[34;01mviewer\u001b[39;00m\u001b[38;5;250m \u001b[39m\u001b[38;5;28;01mimport\u001b[39;00m launch_passive\n\u001b[32m      4\u001b[39m \u001b[38;5;28;01mfrom\u001b[39;00m\u001b[38;5;250m \u001b[39m\u001b[34;01mdm_control\u001b[39;00m\u001b[34;01m.\u001b[39;00m\u001b[34;01mutils\u001b[39;00m\u001b[34;01m.\u001b[39;00m\u001b[34;01minverse_kinematics\u001b[39;00m\u001b[38;5;250m \u001b[39m\u001b[38;5;28;01mimport\u001b[39;00m qpos_from_site_pose\n",
      "\u001b[36mFile \u001b[39m\u001b[32mc:\\Users\\ADMIN\\anaconda3\\envs\\mujoco_env\\Lib\\site-packages\\dm_control\\mujoco\\__init__.py:18\u001b[39m\n\u001b[32m      1\u001b[39m \u001b[38;5;66;03m# Copyright 2017 The dm_control Authors.\u001b[39;00m\n\u001b[32m      2\u001b[39m \u001b[38;5;66;03m#\u001b[39;00m\n\u001b[32m      3\u001b[39m \u001b[38;5;66;03m# Licensed under the Apache License, Version 2.0 (the \"License\");\u001b[39;00m\n\u001b[32m   (...)\u001b[39m\u001b[32m     13\u001b[39m \u001b[38;5;66;03m# limitations under the License.\u001b[39;00m\n\u001b[32m     14\u001b[39m \u001b[38;5;66;03m# ============================================================================\u001b[39;00m\n\u001b[32m     16\u001b[39m \u001b[33;03m\"\"\"Mujoco implementations of base classes.\"\"\"\u001b[39;00m\n\u001b[32m---> \u001b[39m\u001b[32m18\u001b[39m \u001b[38;5;28;01mfrom\u001b[39;00m\u001b[38;5;250m \u001b[39m\u001b[34;01mdm_control\u001b[39;00m\u001b[34;01m.\u001b[39;00m\u001b[34;01mmujoco\u001b[39;00m\u001b[34;01m.\u001b[39;00m\u001b[34;01mengine\u001b[39;00m\u001b[38;5;250m \u001b[39m\u001b[38;5;28;01mimport\u001b[39;00m action_spec\n\u001b[32m     20\u001b[39m \u001b[38;5;28;01mfrom\u001b[39;00m\u001b[38;5;250m \u001b[39m\u001b[34;01mdm_control\u001b[39;00m\u001b[34;01m.\u001b[39;00m\u001b[34;01mmujoco\u001b[39;00m\u001b[34;01m.\u001b[39;00m\u001b[34;01mengine\u001b[39;00m\u001b[38;5;250m \u001b[39m\u001b[38;5;28;01mimport\u001b[39;00m Camera\n\u001b[32m     21\u001b[39m \u001b[38;5;28;01mfrom\u001b[39;00m\u001b[38;5;250m \u001b[39m\u001b[34;01mdm_control\u001b[39;00m\u001b[34;01m.\u001b[39;00m\u001b[34;01mmujoco\u001b[39;00m\u001b[34;01m.\u001b[39;00m\u001b[34;01mengine\u001b[39;00m\u001b[38;5;250m \u001b[39m\u001b[38;5;28;01mimport\u001b[39;00m CameraMatrices\n",
      "\u001b[36mFile \u001b[39m\u001b[32mc:\\Users\\ADMIN\\anaconda3\\envs\\mujoco_env\\Lib\\site-packages\\dm_control\\mujoco\\engine.py:45\u001b[39m\n\u001b[32m     43\u001b[39m \u001b[38;5;28;01mfrom\u001b[39;00m\u001b[38;5;250m \u001b[39m\u001b[34;01mdm_control\u001b[39;00m\u001b[34;01m.\u001b[39;00m\u001b[34;01mmujoco\u001b[39;00m\u001b[38;5;250m \u001b[39m\u001b[38;5;28;01mimport\u001b[39;00m wrapper\n\u001b[32m     44\u001b[39m \u001b[38;5;28;01mfrom\u001b[39;00m\u001b[38;5;250m \u001b[39m\u001b[34;01mdm_control\u001b[39;00m\u001b[34;01m.\u001b[39;00m\u001b[34;01mmujoco\u001b[39;00m\u001b[34;01m.\u001b[39;00m\u001b[34;01mwrapper\u001b[39;00m\u001b[38;5;250m \u001b[39m\u001b[38;5;28;01mimport\u001b[39;00m util\n\u001b[32m---> \u001b[39m\u001b[32m45\u001b[39m \u001b[38;5;28;01mfrom\u001b[39;00m\u001b[38;5;250m \u001b[39m\u001b[34;01mdm_control\u001b[39;00m\u001b[34;01m.\u001b[39;00m\u001b[34;01mrl\u001b[39;00m\u001b[38;5;250m \u001b[39m\u001b[38;5;28;01mimport\u001b[39;00m control \u001b[38;5;28;01mas\u001b[39;00m _control\n\u001b[32m     46\u001b[39m \u001b[38;5;28;01mfrom\u001b[39;00m\u001b[38;5;250m \u001b[39m\u001b[34;01mdm_env\u001b[39;00m\u001b[38;5;250m \u001b[39m\u001b[38;5;28;01mimport\u001b[39;00m specs\n\u001b[32m     47\u001b[39m \u001b[38;5;28;01mimport\u001b[39;00m\u001b[38;5;250m \u001b[39m\u001b[34;01mmujoco\u001b[39;00m\n",
      "\u001b[36mFile \u001b[39m\u001b[32mc:\\Users\\ADMIN\\anaconda3\\envs\\mujoco_env\\Lib\\site-packages\\dm_control\\rl\\control.py:21\u001b[39m\n\u001b[32m     19\u001b[39m \u001b[38;5;28;01mimport\u001b[39;00m\u001b[38;5;250m \u001b[39m\u001b[34;01mcollections\u001b[39;00m\n\u001b[32m     20\u001b[39m \u001b[38;5;28;01mimport\u001b[39;00m\u001b[38;5;250m \u001b[39m\u001b[34;01mcontextlib\u001b[39;00m\n\u001b[32m---> \u001b[39m\u001b[32m21\u001b[39m \u001b[38;5;28;01mimport\u001b[39;00m\u001b[38;5;250m \u001b[39m\u001b[34;01mdm_env\u001b[39;00m\n\u001b[32m     22\u001b[39m \u001b[38;5;28;01mfrom\u001b[39;00m\u001b[38;5;250m \u001b[39m\u001b[34;01mdm_env\u001b[39;00m\u001b[38;5;250m \u001b[39m\u001b[38;5;28;01mimport\u001b[39;00m specs\n\u001b[32m     23\u001b[39m \u001b[38;5;28;01mimport\u001b[39;00m\u001b[38;5;250m \u001b[39m\u001b[34;01mnumpy\u001b[39;00m\u001b[38;5;250m \u001b[39m\u001b[38;5;28;01mas\u001b[39;00m\u001b[38;5;250m \u001b[39m\u001b[34;01mnp\u001b[39;00m\n",
      "\u001b[31mModuleNotFoundError\u001b[39m: No module named 'dm_env'"
     ]
    }
   ],
   "source": [
    "import numpy as np\n",
    "from dm_control import mujoco\n",
    "from dm_control.viewer import launch_passive\n",
    "from dm_control.utils.inverse_kinematics import qpos_from_site_pose\n",
    "\n",
    "\n",
    "# Load the MuJoCo model\n",
    "physics = mujoco.Physics.from_xml_path(\"nova5_robot.xml\")\n",
    "\n",
    "# Define the target position for the end effector\n",
    "target_pos = np.array([0.1, 0, 0.4])\n",
    "\n",
    "# Passive visualization launch (non-blocking)\n",
    "launch_passive(physics)\n",
    "\n",
    "# Inverse Kinematics using dm_control\n",
    "def ik_solver():\n",
    "    qpos = qpos_from_site_pose(physics, site_name=\"suction_gripper\", target_pos=target_pos)\n",
    "    physics.data.qpos[:] = qpos\n",
    "    physics.forward()\n",
    "    return qpos\n",
    "\n",
    "# Alternative IK approach using optimization\n",
    "\n",
    "# Choose IK method\n",
    "use_dm_control = True  # Switch to False for the optimization approach\n",
    "\n",
    "if use_dm_control:\n",
    "    joint_angles = ik_solver()\n",
    "else:\n",
    "    pass\n",
    "\n",
    "# Print final joint angles\n",
    "print(\"Computed Joint Angles:\", joint_angles)\n"
   ]
  },
  {
   "cell_type": "code",
   "execution_count": 23,
   "id": "e772a10f",
   "metadata": {},
   "outputs": [
    {
     "name": "stdout",
     "output_type": "stream",
     "text": [
      "Note: you may need to restart the kernel to use updated packages.\n"
     ]
    },
    {
     "name": "stderr",
     "output_type": "stream",
     "text": [
      "ERROR: Could not find a version that satisfies the requirement dm_rnv (from versions: none)\n",
      "ERROR: No matching distribution found for dm_rnv\n"
     ]
    }
   ],
   "source": [
    "%pip install dm_rnv\n",
    "\n"
   ]
  },
  {
   "cell_type": "code",
   "execution_count": 21,
   "id": "a7319e67",
   "metadata": {},
   "outputs": [
    {
     "name": "stdout",
     "output_type": "stream",
     "text": [
      "Collecting dm_control\n",
      "  Using cached dm_control-1.0.30-py3-none-any.whl.metadata (1.6 kB)\n",
      "Using cached dm_control-1.0.30-py3-none-any.whl (56.4 MB)\n",
      "Installing collected packages: dm_control\n",
      "Successfully installed dm_control-1.0.30\n",
      "Note: you may need to restart the kernel to use updated packages.\n"
     ]
    }
   ],
   "source": [
    "%pip install dm_control --no-deps\n"
   ]
  },
  {
   "cell_type": "code",
   "execution_count": null,
   "id": "9ca17e49",
   "metadata": {},
   "outputs": [],
   "source": []
  }
 ],
 "metadata": {
  "kernelspec": {
   "display_name": "mujoco_env",
   "language": "python",
   "name": "python3"
  },
  "language_info": {
   "codemirror_mode": {
    "name": "ipython",
    "version": 3
   },
   "file_extension": ".py",
   "mimetype": "text/x-python",
   "name": "python",
   "nbconvert_exporter": "python",
   "pygments_lexer": "ipython3",
   "version": "3.13.2"
  }
 },
 "nbformat": 4,
 "nbformat_minor": 5
}
