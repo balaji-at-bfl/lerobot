{
 "cells": [
  {
   "cell_type": "code",
   "execution_count": 1,
   "id": "88bc10a8",
   "metadata": {},
   "outputs": [
    {
     "name": "stderr",
     "output_type": "stream",
     "text": [
      "/home/bfl3/miniconda3/envs/lerobot/lib/python3.10/site-packages/tqdm/auto.py:21: TqdmWarning: IProgress not found. Please update jupyter and ipywidgets. See https://ipywidgets.readthedocs.io/en/stable/user_install.html\n",
      "  from .autonotebook import tqdm as notebook_tqdm\n"
     ]
    }
   ],
   "source": [
    "from lerobot.datasets.lerobot_dataset import LeRobotDataset"
   ]
  },
  {
   "cell_type": "code",
   "execution_count": 3,
   "id": "67f5f6bd",
   "metadata": {},
   "outputs": [
    {
     "name": "stderr",
     "output_type": "stream",
     "text": [
      "Generating train split: 895 examples [00:00, 424409.51 examples/s]\n"
     ]
    }
   ],
   "source": [
    "dataset = LeRobotDataset(\"/home/bfl3/bfl_works/new_lerobot/lerobot/july5/record-test\", episodes=[0])"
   ]
  },
  {
   "cell_type": "code",
   "execution_count": 4,
   "id": "7eab486f",
   "metadata": {},
   "outputs": [
    {
     "data": {
      "text/plain": [
       "['__add__',\n",
       " '__annotations__',\n",
       " '__class__',\n",
       " '__class_getitem__',\n",
       " '__delattr__',\n",
       " '__dict__',\n",
       " '__dir__',\n",
       " '__doc__',\n",
       " '__eq__',\n",
       " '__format__',\n",
       " '__ge__',\n",
       " '__getattribute__',\n",
       " '__getitem__',\n",
       " '__gt__',\n",
       " '__hash__',\n",
       " '__init__',\n",
       " '__init_subclass__',\n",
       " '__le__',\n",
       " '__len__',\n",
       " '__lt__',\n",
       " '__module__',\n",
       " '__ne__',\n",
       " '__new__',\n",
       " '__orig_bases__',\n",
       " '__parameters__',\n",
       " '__reduce__',\n",
       " '__reduce_ex__',\n",
       " '__repr__',\n",
       " '__setattr__',\n",
       " '__sizeof__',\n",
       " '__slots__',\n",
       " '__str__',\n",
       " '__subclasshook__',\n",
       " '__weakref__',\n",
       " '_add_padding_keys',\n",
       " '_get_image_file_path',\n",
       " '_get_query_indices',\n",
       " '_get_query_timestamps',\n",
       " '_is_protocol',\n",
       " '_query_hf_dataset',\n",
       " '_query_videos',\n",
       " '_save_episode_table',\n",
       " '_save_image',\n",
       " '_wait_image_writer',\n",
       " 'add_frame',\n",
       " 'clear_episode_buffer',\n",
       " 'create',\n",
       " 'create_episode_buffer',\n",
       " 'create_hf_dataset',\n",
       " 'delta_indices',\n",
       " 'delta_timestamps',\n",
       " 'download_episodes',\n",
       " 'encode_episode_videos',\n",
       " 'encode_videos',\n",
       " 'episode_buffer',\n",
       " 'episode_data_index',\n",
       " 'episodes',\n",
       " 'features',\n",
       " 'fps',\n",
       " 'get_episodes_file_paths',\n",
       " 'hf_dataset',\n",
       " 'hf_features',\n",
       " 'image_transforms',\n",
       " 'image_writer',\n",
       " 'load_hf_dataset',\n",
       " 'meta',\n",
       " 'num_episodes',\n",
       " 'num_frames',\n",
       " 'pull_from_repo',\n",
       " 'push_to_hub',\n",
       " 'repo_id',\n",
       " 'revision',\n",
       " 'root',\n",
       " 'save_episode',\n",
       " 'start_image_writer',\n",
       " 'stats',\n",
       " 'stop_image_writer',\n",
       " 'tolerance_s',\n",
       " 'video_backend']"
      ]
     },
     "execution_count": 4,
     "metadata": {},
     "output_type": "execute_result"
    }
   ],
   "source": [
    "dir(dataset)"
   ]
  },
  {
   "cell_type": "code",
   "execution_count": 8,
   "id": "d8cda75a",
   "metadata": {},
   "outputs": [
    {
     "data": {
      "text/plain": [
       "LeRobotDatasetMetadata({\n",
       "    Repository ID: '/home/bfl3/bfl_works/new_lerobot/lerobot/july5/record-test',\n",
       "    Total episodes: '50',\n",
       "    Total frames: '44893',\n",
       "    Features: '['action', 'observation.state', 'observation.images.front', 'observation.images.left', 'timestamp', 'frame_index', 'episode_index', 'index', 'task_index']',\n",
       "})',"
      ]
     },
     "execution_count": 8,
     "metadata": {},
     "output_type": "execute_result"
    }
   ],
   "source": [
    "dataset.meta\n"
   ]
  },
  {
   "cell_type": "code",
   "execution_count": 1,
   "id": "f4dce864",
   "metadata": {},
   "outputs": [
    {
     "name": "stderr",
     "output_type": "stream",
     "text": [
      "usage: ipykernel_launcher.py [-h] [--step-size STEP_SIZE]\n",
      "                             [--render-mode {human,rgb_array}]\n",
      "                             [--use-keyboard] [--reset-delay RESET_DELAY]\n",
      "                             [--controller-config CONTROLLER_CONFIG]\n",
      "ipykernel_launcher.py: error: unrecognized arguments: --f=/run/user/1000/jupyter/runtime/kernel-v3d156e3070c13d45a1a60c7dab49543b7b1cff72f.json\n"
     ]
    },
    {
     "ename": "SystemExit",
     "evalue": "2",
     "output_type": "error",
     "traceback": [
      "An exception has occurred, use %tb to see the full traceback.\n",
      "\u001b[0;31mSystemExit\u001b[0m\u001b[0;31m:\u001b[0m 2\n"
     ]
    },
    {
     "name": "stderr",
     "output_type": "stream",
     "text": [
      "/home/bfl3/miniconda3/envs/lerobot/lib/python3.10/site-packages/IPython/core/interactiveshell.py:3587: UserWarning: To exit: use 'exit', 'quit', or Ctrl-D.\n",
      "  warn(\"To exit: use 'exit', 'quit', or Ctrl-D.\", stacklevel=1)\n"
     ]
    }
   ],
   "source": [
    "#!/usr/bin/env python\n",
    "\n",
    "# Copyright 2024 The HuggingFace Inc. team. All rights reserved.\n",
    "#\n",
    "# Licensed under the Apache License, Version 2.0 (the \"License\");\n",
    "# you may not use this file except in compliance with the License.\n",
    "# You may obtain a copy of the License at\n",
    "#\n",
    "#     http://www.apache.org/licenses/LICENSE-2.0\n",
    "#\n",
    "# Unless required by applicable law or agreed to in writing, software\n",
    "# distributed under the License is distributed on an \"AS IS\" BASIS,\n",
    "# WITHOUT WARRANTIES OR CONDITIONS OF ANY KIND, either express or implied.\n",
    "# See the License for the specific language governing permissions and\n",
    "# limitations under the License.\n",
    "\n",
    "import argparse\n",
    "import time\n",
    "\n",
    "import gymnasium as gym\n",
    "import numpy as np\n",
    "\n",
    "import gym_hil  # noqa: F401\n",
    "\n",
    "\n",
    "def main():\n",
    "    parser = argparse.ArgumentParser(description=\"Control Franka robot interactively\")\n",
    "    parser.add_argument(\"--step-size\", type=float, default=0.01, help=\"Step size for movement in meters\")\n",
    "    parser.add_argument(\n",
    "        \"--render-mode\", type=str, default=\"human\", choices=[\"human\", \"rgb_array\"], help=\"Rendering mode\"\n",
    "    )\n",
    "    parser.add_argument(\"--use-keyboard\", action=\"store_true\", help=\"Use keyboard control\")\n",
    "    parser.add_argument(\n",
    "        \"--reset-delay\",\n",
    "        type=float,\n",
    "        default=2.0,\n",
    "        help=\"Delay in seconds when resetting the environment (0.0 means no delay)\",\n",
    "    )\n",
    "    parser.add_argument(\n",
    "        \"--controller-config\", type=str, default=None, help=\"Path to controller configuration JSON file\"\n",
    "    )\n",
    "    args = parser.parse_args()\n",
    "\n",
    "    # Create Franka environment - Use base environment first to debug\n",
    "    env = gym.make(\n",
    "        \"gym_hil/PandaPickCubeBase-v0\",  # Use the base environment for debugging\n",
    "        render_mode=args.render_mode,\n",
    "        image_obs=True,\n",
    "    )\n",
    "\n",
    "    # Print observation space for debugging\n",
    "    print(\"Observation space:\", env.observation_space)\n",
    "\n",
    "    # Reset and check observation structure\n",
    "    obs, _ = env.reset()\n",
    "    print(\"Observation keys:\", list(obs.keys()))\n",
    "    if \"pixels\" in obs:\n",
    "        print(\"Pixels keys:\", list(obs[\"pixels\"].keys()))\n",
    "\n",
    "    # Now try with the wrapped version\n",
    "    print(\"\\nTrying wrapped environment...\")\n",
    "    env_id = (\n",
    "        \"gym_hil/PandaArrangeBoxesKeyboard-v0\" if args.use_keyboard else \"gym_hil/PandaArrangeBoxesGamepad-v0\"\n",
    "    )\n",
    "    env = gym.make(\n",
    "        env_id,\n",
    "        render_mode=args.render_mode,\n",
    "        image_obs=True,\n",
    "        use_gamepad=not args.use_keyboard,\n",
    "        max_episode_steps=1000,  # 100 seconds * 10Hz\n",
    "    )\n",
    "\n",
    "    # Print observation space for the wrapped environment\n",
    "    print(\"Wrapped observation space:\", env.observation_space)\n",
    "\n",
    "    # Reset and check wrapped observation structure\n",
    "    obs, _ = env.reset()\n",
    "    print(\"Wrapped observation keys:\", list(obs.keys()))\n",
    "\n",
    "    # Reset environment\n",
    "    obs, _ = env.reset()\n",
    "    dummy_action = np.zeros(4, dtype=np.float32)\n",
    "    # This ensures the \"stay gripper\" action is set when the intervention button is not pressed\n",
    "    dummy_action[-1] = 1\n",
    "\n",
    "    try:\n",
    "        while True:\n",
    "            # Step the environment\n",
    "            obs, reward, terminated, truncated, info = env.step(dummy_action)\n",
    "\n",
    "            # Print some feedback\n",
    "            if info.get(\"succeed\", False):\n",
    "                print(\"\\nSuccess! Block has been picked up.\")\n",
    "\n",
    "            # If auto-reset is disabled, manually reset when episode ends\n",
    "            if terminated or truncated:\n",
    "                print(\"Episode ended, resetting environment\")\n",
    "                obs, _ = env.reset()\n",
    "\n",
    "            # Add a small delay to control update rate\n",
    "            time.sleep(0.05)\n",
    "\n",
    "    except KeyboardInterrupt:\n",
    "        print(\"Interrupted by user\")\n",
    "    finally:\n",
    "        env.close()\n",
    "        print(\"Session ended\")\n",
    "\n",
    "\n",
    "if __name__ == \"__main__\":\n",
    "    main()"
   ]
  }
 ],
 "metadata": {
  "kernelspec": {
   "display_name": "lerobot",
   "language": "python",
   "name": "python3"
  },
  "language_info": {
   "codemirror_mode": {
    "name": "ipython",
    "version": 3
   },
   "file_extension": ".py",
   "mimetype": "text/x-python",
   "name": "python",
   "nbconvert_exporter": "python",
   "pygments_lexer": "ipython3",
   "version": "3.10.13"
  }
 },
 "nbformat": 4,
 "nbformat_minor": 5
}
